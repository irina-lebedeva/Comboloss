{
 "cells": [
  {
   "cell_type": "code",
   "execution_count": 4,
   "metadata": {},
   "outputs": [
    {
     "name": "stdout",
     "output_type": "stream",
     "text": [
      "start loading SCUTFBPDataset...\n",
      "done\n",
      "Traceback (most recent call last):\n",
      "  File \"run_fbp.py\", line 580, in <module>\n",
      "    main(ComboNet(num_out=5), 'SCUT-FBP', 'combinator')\n",
      "  File \"run_fbp.py\", line 564, in main\n",
      "    criterion = CombinedLoss(xent_weight=xent_weight_list)\n",
      "  File \"../models/losses.py\", line 69, in __init__\n",
      "    self.xent_criterion = nn.CrossEntropyLoss(weight=torch.Tensor(xent_weight).to(\"cuda\"))\n",
      "  File \"/home/ubuntu/anaconda3/envs/tensorflow2_latest_p37/lib/python3.7/site-packages/torch/cuda/__init__.py\", line 172, in _lazy_init\n",
      "    torch._C._cuda_init()\n",
      "RuntimeError: No CUDA GPUs are available\n"
     ]
    }
   ],
   "source": [
    "!python run_fbp.py"
   ]
  },
  {
   "cell_type": "code",
   "execution_count": 2,
   "metadata": {},
   "outputs": [
    {
     "name": "stdout",
     "output_type": "stream",
     "text": [
      "Collecting pytorchcv\n",
      "  Downloading pytorchcv-0.0.64-py2.py3-none-any.whl (524 kB)\n",
      "\u001b[K     |████████████████████████████████| 524 kB 3.9 MB/s eta 0:00:01\n",
      "\u001b[?25hRequirement already satisfied: requests in /home/ubuntu/anaconda3/envs/tensorflow2_latest_p37/lib/python3.7/site-packages (from pytorchcv) (2.22.0)\n",
      "Requirement already satisfied: numpy in /home/ubuntu/anaconda3/envs/tensorflow2_latest_p37/lib/python3.7/site-packages (from pytorchcv) (1.19.5)\n",
      "Requirement already satisfied: idna<2.9,>=2.5 in /home/ubuntu/anaconda3/envs/tensorflow2_latest_p37/lib/python3.7/site-packages (from requests->pytorchcv) (2.8)\n",
      "Requirement already satisfied: urllib3!=1.25.0,!=1.25.1,<1.26,>=1.21.1 in /home/ubuntu/anaconda3/envs/tensorflow2_latest_p37/lib/python3.7/site-packages (from requests->pytorchcv) (1.25.10)\n",
      "Requirement already satisfied: certifi>=2017.4.17 in /home/ubuntu/anaconda3/envs/tensorflow2_latest_p37/lib/python3.7/site-packages (from requests->pytorchcv) (2020.12.5)\n",
      "Requirement already satisfied: chardet<3.1.0,>=3.0.2 in /home/ubuntu/anaconda3/envs/tensorflow2_latest_p37/lib/python3.7/site-packages (from requests->pytorchcv) (3.0.4)\n",
      "Installing collected packages: pytorchcv\n",
      "Successfully installed pytorchcv-0.0.64\n"
     ]
    }
   ],
   "source": [
    "!pip install pytorchcv"
   ]
  },
  {
   "cell_type": "code",
   "execution_count": null,
   "metadata": {},
   "outputs": [],
   "source": []
  }
 ],
 "metadata": {
  "kernelspec": {
   "display_name": "Environment (conda_tensorflow2_latest_p37)",
   "language": "python",
   "name": "conda_tensorflow2_latest_p37"
  },
  "language_info": {
   "codemirror_mode": {
    "name": "ipython",
    "version": 3
   },
   "file_extension": ".py",
   "mimetype": "text/x-python",
   "name": "python",
   "nbconvert_exporter": "python",
   "pygments_lexer": "ipython3",
   "version": "3.7.6"
  }
 },
 "nbformat": 4,
 "nbformat_minor": 4
}
